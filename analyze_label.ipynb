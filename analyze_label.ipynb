{
 "cells": [
  {
   "cell_type": "code",
   "execution_count": 1,
   "metadata": {},
   "outputs": [],
   "source": [
    "from PIL import Image\n",
    "Image.MAX_IMAGE_PIXELS = 100000000\n",
    "import glob\n",
    "import os\n",
    "import numpy as np\n",
    "from tqdm import tqdm"
   ]
  },
  {
   "cell_type": "code",
   "execution_count": 2,
   "metadata": {},
   "outputs": [],
   "source": [
    "train_img_dir = '/Users/koheihenmi/Dropbox/signate/tellus/data/train_images/'\n",
    "train_anno_dir = '/Users/koheihenmi/Dropbox/signate/tellus/data/train_annotations/'\n",
    "train_img_pathes = sorted(glob.glob(train_img_dir+'*'))\n",
    "train_anno_pathes = sorted(glob.glob(train_anno_dir+'*'))\n",
    "train_img_hh_pathes = train_img_pathes[:80]\n",
    "train_img_hv_pathes = train_img_pathes[80:]"
   ]
  },
  {
   "cell_type": "code",
   "execution_count": 3,
   "metadata": {},
   "outputs": [
    {
     "data": {
      "text/plain": [
       "'\\n        0：海氷密度 0（海氷なし）\\n        1：海氷密度 1-3\\n        4：海氷密度 4-6\\n        7：海氷密度 7-8\\n        9：海氷密度 9-10\\n        11：湖\\n        12：陸域\\n'"
      ]
     },
     "execution_count": 3,
     "metadata": {},
     "output_type": "execute_result"
    }
   ],
   "source": [
    "\"\"\"\n",
    "        0：海氷密度 0（海氷なし）\n",
    "        1：海氷密度 1-3\n",
    "        4：海氷密度 4-6\n",
    "        7：海氷密度 7-8\n",
    "        9：海氷密度 9-10\n",
    "        11：湖\n",
    "        12：陸域\n",
    "\"\"\"\n",
    "class_box = {\"0\":[[0 for _ in range(256)] for _ in range(256)],\n",
    "             \"1\":[[0 for _ in range(256)] for _ in range(256)],\n",
    "             \"4\":[[0 for _ in range(256)] for _ in range(256)],\n",
    "             \"7\":[[0 for _ in range(256)] for _ in range(256)],\n",
    "             \"9\":[[0 for _ in range(256)] for _ in range(256)],\n",
    "             \"11\":[[0 for _ in range(256)] for _ in range(256)],\n",
    "             \"12\":[[0 for _ in range(256)] for _ in range(256)]}\n"
   ]
  },
  {
   "cell_type": "code",
   "execution_count": 4,
   "metadata": {
    "scrolled": true
   },
   "outputs": [
    {
     "name": "stderr",
     "output_type": "stream",
     "text": [
      "100%|██████████| 80/80 [2:38:54<00:00, 119.18s/it]  \n"
     ]
    }
   ],
   "source": [
    "for hh_path, hv_path, anno_path in tqdm(zip(train_img_hh_pathes,train_img_hv_pathes,train_anno_pathes),total=len(train_anno_pathes)):\n",
    "    hh = np.array(Image.open(hh_path))\n",
    "    hv = np.array(Image.open(hv_path))\n",
    "    anno = np.array(Image.open(anno_path))\n",
    "    for i,row in enumerate(anno):\n",
    "        for j,coloum in enumerate(row):\n",
    "            class_box[str(anno[i][j])][hh[i][j]][hv[i][j]] += 1 \n",
    "    "
   ]
  },
  {
   "cell_type": "code",
   "execution_count": 12,
   "metadata": {},
   "outputs": [
    {
     "name": "stdout",
     "output_type": "stream",
     "text": [
      "name 0\n",
      "sum 3686976667\n",
      "max 468501928 argmax 2 3\n",
      "min 0 argmin 0 9\n",
      "name 1\n",
      "sum 495585015\n",
      "max 70069628 argmax 2 3\n",
      "min 0 argmin 0 7\n",
      "name 4\n",
      "sum 531557261\n",
      "max 42930976 argmax 3 4\n",
      "min 0 argmin 0 6\n",
      "name 7\n",
      "sum 322298627\n",
      "max 19456653 argmax 7 9\n",
      "min 0 argmin 0 6\n",
      "name 9\n",
      "sum 469473926\n",
      "max 20496113 argmax 5 7\n",
      "min 0 argmin 0 6\n",
      "name 11\n",
      "sum 2959648\n",
      "max 286517 argmax 3 5\n",
      "min 0 argmin 0 7\n",
      "name 12\n",
      "sum 337384407\n",
      "max 4380141 argmax 13 20\n",
      "min 0 argmin 0 12\n"
     ]
    }
   ],
   "source": [
    "import csv\n",
    "output_dir = '/Users/koheihenmi/Dropbox/signate/tellus/output/'\n",
    "for label_name,label_value in class_box.items():\n",
    "    \"\"\"\n",
    "    中間ファイル保存\n",
    "    \"\"\"\n",
    "    \n",
    "    with open(output_dir+'analyze_label__'+label_name+'.csv', 'w') as f:\n",
    "        writer = csv.writer(f)\n",
    "        writer.writerows(label_value)\n",
    "    \n",
    "    print('name',label_name)\n",
    "    print('sum',np.sum(label_value))\n",
    "    print('max',np.max(label_value),'argmax',np.argmax(label_value)//255,np.argmax(label_value)%255)\n",
    "    print('min',np.min(label_value),'argmin',np.argmin(label_value)//255,np.argmin(label_value)%255)\n",
    "    \n",
    "        "
   ]
  },
  {
   "cell_type": "code",
   "execution_count": 28,
   "metadata": {},
   "outputs": [],
   "source": [
    "import matplotlib.pyplot as plt\n",
    "def draw_heatmap(data, min_value, max_value):\n",
    "    \"\"\"\n",
    "    :param data:二次元配列．入力するデータ\n",
    "    :param min_value:カラーバーの最小値\n",
    "    :param max_value:カラーバーの最大値\n",
    "    \"\"\"\n",
    "    # 描画する\n",
    "    fig, ax = plt.subplots()\n",
    "    heatmap = ax.pcolor(data, cmap=plt.cm.Blues, vmin=min_value, vmax=max_value)\n",
    "    #ax.set_xticks(np.arange(data.shape[0])+0.5, minor=False)\n",
    "    #ax.set_yticks(np.arange(data.shape[1])+0.5, minor=False)    \n",
    "    ax.invert_yaxis()\n",
    "    ax.xaxis.tick_top()\n",
    "    plt.show()"
   ]
  },
  {
   "cell_type": "code",
   "execution_count": 33,
   "metadata": {
    "scrolled": false
   },
   "outputs": [
    {
     "name": "stdout",
     "output_type": "stream",
     "text": [
      "0\n"
     ]
    },
    {
     "data": {
      "image/png": "[encoded data removed]",
      "text/plain": [
       "<Figure size 432x288 with 1 Axes>"
      ]
     },
     "metadata": {
      "needs_background": "light"
     },
     "output_type": "display_data"
    },
    {
     "name": "stdout",
     "output_type": "stream",
     "text": [
      "1\n"
     ]
    },
    {
     "data": {
      "image/png": "[encoded data removed]",
      "text/plain": [
       "<Figure size 432x288 with 1 Axes>"
      ]
     },
     "metadata": {
      "needs_background": "light"
     },
     "output_type": "display_data"
    },
    {
     "name": "stdout",
     "output_type": "stream",
     "text": [
      "4\n"
     ]
    },
    {
     "data": {
      "image/png": "[encoded data removed]",
      "text/plain": [
       "<Figure size 432x288 with 1 Axes>"
      ]
     },
     "metadata": {
      "needs_background": "light"
     },
     "output_type": "display_data"
    },
    {
     "name": "stdout",
     "output_type": "stream",
     "text": [
      "7\n"
     ]
    },
    {
     "data": {
      "image/png": "[encoded data removed]",
      "text/plain": [
       "<Figure size 432x288 with 1 Axes>"
      ]
     },
     "metadata": {
      "needs_background": "light"
     },
     "output_type": "display_data"
    },
    {
     "name": "stdout",
     "output_type": "stream",
     "text": [
      "9\n"
     ]
    },
    {
     "data": {
      "image/png": "[encoded data removed]",
      "text/plain": [
       "<Figure size 432x288 with 1 Axes>"
      ]
     },
     "metadata": {
      "needs_background": "light"
     },
     "output_type": "display_data"
    },
    {
     "name": "stdout",
     "output_type": "stream",
     "text": [
      "11\n"
     ]
    },
    {
     "data": {
      "image/png": "[encoded data removed]",
      "text/plain": [
       "<Figure size 432x288 with 1 Axes>"
      ]
     },
     "metadata": {
      "needs_background": "light"
     },
     "output_type": "display_data"
    },
    {
     "name": "stdout",
     "output_type": "stream",
     "text": [
      "12\n"
     ]
    },
    {
     "data": {
      "image/png": "[encoded data removed]",
      "text/plain": [
       "<Figure size 432x288 with 1 Axes>"
      ]
     },
     "metadata": {
      "needs_background": "light"
     },
     "output_type": "display_data"
    }
   ],
   "source": [
    "for label_name,label_value in class_box.items():\n",
    "    label_value = np.array(label_value)[:20,:20]\n",
    "    print(label_name)\n",
    "    draw_heatmap(label_value,np.min(label_value),np.max(label_value))"
   ]
  },
  {
   "cell_type": "code",
   "execution_count": null,
   "metadata": {},
   "outputs": [],
   "source": []
  }
 ],
 "metadata": {
  "kernelspec": {
   "display_name": "Python 3",
   "language": "python",
   "name": "python3"
  },
  "language_info": {
   "codemirror_mode": {
    "name": "ipython",
    "version": 3
   },
   "file_extension": ".py",
   "mimetype": "text/x-python",
   "name": "python",
   "nbconvert_exporter": "python",
   "pygments_lexer": "ipython3",
   "version": "3.7.3"
  }
 },
 "nbformat": 4,
 "nbformat_minor": 2
}
